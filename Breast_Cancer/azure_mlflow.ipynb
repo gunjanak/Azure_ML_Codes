{
 "cells": [
  {
   "cell_type": "code",
   "execution_count": 2,
   "metadata": {},
   "outputs": [],
   "source": [
    "from azureml.core import Workspace\n",
    "from azureml.core.model import InferenceConfig,Model\n",
    "from azureml.core.environment import Environment\n",
    "from azureml.core.webservice import AciWebservice,Webservice\n",
    "\n",
    "import mlflow\n",
    "import mlflow.sklearn\n",
    "from mlflow.tracking import MlflowClient\n",
    "from mlflow.models.signature import infer_signature\n",
    "\n",
    "from sklearn.model_selection import train_test_split\n",
    "from sklearn.svm import SVC\n",
    "from sklearn.ensemble import RandomForestClassifier,GradientBoostingClassifier\n",
    "from sklearn.metrics import accuracy_score,f1_score\n",
    "from sklearn.datasets import load_breast_cancer\n",
    "\n",
    "from sklearn.metrics import accuracy_score, f1_score\n",
    "import pandas as pd\n",
    "import matplotlib.pyplot as plt\n",
    "import numpy as np\n",
    "\n",
    "import requests\n",
    "import json"
   ]
  },
  {
   "cell_type": "code",
   "execution_count": 3,
   "metadata": {},
   "outputs": [
    {
     "name": "stderr",
     "output_type": "stream",
     "text": [
      "Warning: Falling back to use azure cli login credentials.\n",
      "If you run your code in unattended mode, i.e., where you can't give a user input, then we recommend to use ServicePrincipalAuthentication or MsiAuthentication.\n",
      "Please refer to aka.ms/aml-notebook-auth for different authentication mechanisms in azureml-sdk.\n"
     ]
    }
   ],
   "source": [
    "ws = Workspace.from_config()\n",
    "mlflow.set_tracking_uri(ws.get_mlflow_tracking_uri())"
   ]
  },
  {
   "cell_type": "code",
   "execution_count": 4,
   "metadata": {},
   "outputs": [],
   "source": [
    "# Load dataset\n",
    "X, y = load_breast_cancer(return_X_y=True)\n",
    "X_train, X_test, y_train, y_test = train_test_split(X, y, test_size=0.2, random_state=42)"
   ]
  },
  {
   "cell_type": "code",
   "execution_count": 5,
   "metadata": {},
   "outputs": [],
   "source": [
    "# 4. Dictionary to store model performances\n",
    "model_performance = {}"
   ]
  },
  {
   "cell_type": "code",
   "execution_count": 6,
   "metadata": {},
   "outputs": [],
   "source": [
    "# 5. List of algorithms to evaluate\n",
    "algorithms = {\n",
    "    \"Random Forest\": RandomForestClassifier(n_estimators=100, random_state=42),\n",
    "    \"Gradient Boosting\": GradientBoostingClassifier(random_state=42),\n",
    "    \"SVM\": SVC(probability=True, random_state=42)\n",
    "}"
   ]
  },
  {
   "cell_type": "code",
   "execution_count": 7,
   "metadata": {},
   "outputs": [],
   "source": [
    "# Track metrics\n",
    "accuracy_scores = []\n",
    "f1_scores = []"
   ]
  },
  {
   "cell_type": "code",
   "execution_count": null,
   "metadata": {},
   "outputs": [
    {
     "name": "stderr",
     "output_type": "stream",
     "text": [
      "/home/janak/Documents/Azure_MLops_Book/venv/lib/python3.10/site-packages/azureml/mlflow/_protos/aml_service_pb2.py:10: UserWarning: google.protobuf.service module is deprecated. RPC implementations should provide code generator plugins which generate code specific to the RPC implementation. service.py will be removed in Jan 2025\n",
      "  from google.protobuf import service as _service\n"
     ]
    },
    {
     "name": "stdout",
     "output_type": "stream",
     "text": [
      "\n",
      "Training Random Forest...\n"
     ]
    },
    {
     "name": "stderr",
     "output_type": "stream",
     "text": [
      "Registered model 'cancer_random_forest' already exists. Creating a new version of this model...\n",
      "2025/03/28 18:31:56 INFO mlflow.store.model_registry.abstract_store: Waiting up to 300 seconds for model version to finish creation. Model name: cancer_random_forest, version 6\n",
      "Created version '6' of model 'cancer_random_forest'.\n"
     ]
    },
    {
     "name": "stdout",
     "output_type": "stream",
     "text": [
      "Random Forest - Accuracy: 0.9649\n",
      "🏃 View run Random Forest at: https://eastus2.api.azureml.ms/mlflow/v2.0/subscriptions/15d6b460-1d61-4813-914e-eb2d235bceb1/resourceGroups/Azure_ML/providers/Microsoft.MachineLearningServices/workspaces/Azure_ml/#/experiments/f4810b89-bb3f-4bd0-8577-92ea82b2f05f/runs/361bcbee-3323-416a-92a5-3a742a45f8dc\n",
      "🧪 View experiment at: https://eastus2.api.azureml.ms/mlflow/v2.0/subscriptions/15d6b460-1d61-4813-914e-eb2d235bceb1/resourceGroups/Azure_ML/providers/Microsoft.MachineLearningServices/workspaces/Azure_ml/#/experiments/f4810b89-bb3f-4bd0-8577-92ea82b2f05f\n",
      "\n",
      "Training Gradient Boosting...\n"
     ]
    },
    {
     "name": "stderr",
     "output_type": "stream",
     "text": [
      "Registered model 'cancer_gradient_boosting' already exists. Creating a new version of this model...\n",
      "2025/03/28 18:32:28 INFO mlflow.store.model_registry.abstract_store: Waiting up to 300 seconds for model version to finish creation. Model name: cancer_gradient_boosting, version 6\n",
      "Created version '6' of model 'cancer_gradient_boosting'.\n"
     ]
    },
    {
     "name": "stdout",
     "output_type": "stream",
     "text": [
      "Gradient Boosting - Accuracy: 0.9561\n",
      "🏃 View run Gradient Boosting at: https://eastus2.api.azureml.ms/mlflow/v2.0/subscriptions/15d6b460-1d61-4813-914e-eb2d235bceb1/resourceGroups/Azure_ML/providers/Microsoft.MachineLearningServices/workspaces/Azure_ml/#/experiments/f4810b89-bb3f-4bd0-8577-92ea82b2f05f/runs/a5ffe855-8654-4791-966b-db7710823132\n",
      "🧪 View experiment at: https://eastus2.api.azureml.ms/mlflow/v2.0/subscriptions/15d6b460-1d61-4813-914e-eb2d235bceb1/resourceGroups/Azure_ML/providers/Microsoft.MachineLearningServices/workspaces/Azure_ml/#/experiments/f4810b89-bb3f-4bd0-8577-92ea82b2f05f\n",
      "\n",
      "Training SVM...\n"
     ]
    },
    {
     "name": "stderr",
     "output_type": "stream",
     "text": [
      "Registered model 'cancer_svm' already exists. Creating a new version of this model...\n",
      "2025/03/28 18:32:54 INFO mlflow.store.model_registry.abstract_store: Waiting up to 300 seconds for model version to finish creation. Model name: cancer_svm, version 8\n",
      "Created version '8' of model 'cancer_svm'.\n"
     ]
    },
    {
     "name": "stdout",
     "output_type": "stream",
     "text": [
      "SVM - Accuracy: 0.9474\n",
      "🏃 View run SVM at: https://eastus2.api.azureml.ms/mlflow/v2.0/subscriptions/15d6b460-1d61-4813-914e-eb2d235bceb1/resourceGroups/Azure_ML/providers/Microsoft.MachineLearningServices/workspaces/Azure_ml/#/experiments/f4810b89-bb3f-4bd0-8577-92ea82b2f05f/runs/3896581e-1a9b-4ea8-a47b-588d64133717\n",
      "🧪 View experiment at: https://eastus2.api.azureml.ms/mlflow/v2.0/subscriptions/15d6b460-1d61-4813-914e-eb2d235bceb1/resourceGroups/Azure_ML/providers/Microsoft.MachineLearningServices/workspaces/Azure_ml/#/experiments/f4810b89-bb3f-4bd0-8577-92ea82b2f05f\n"
     ]
    },
    {
     "data": {
      "image/png": "[encoded data removed]",
      "text/plain": [
       "<Figure size 800x500 with 1 Axes>"
      ]
     },
     "metadata": {},
     "output_type": "display_data"
    },
    {
     "name": "stdout",
     "output_type": "stream",
     "text": [
      "\n",
      "*************************\n",
      "Best Model: Random Forest with Accuracy: 0.9649\n"
     ]
    },
    {
     "name": "stderr",
     "output_type": "stream",
     "text": [
      "Registered model 'best_cancer_model' already exists. Creating a new version of this model...\n",
      "2025/03/28 18:33:08 INFO mlflow.store.model_registry.abstract_store: Waiting up to 300 seconds for model version to finish creation. Model name: best_cancer_model, version 8\n",
      "Created version '8' of model 'best_cancer_model'.\n"
     ]
    },
    {
     "name": "stdout",
     "output_type": "stream",
     "text": [
      "\n",
      "✅ Successfully registered best model: Random Forest as 'best_cancer_model'\n",
      "\n",
      "Parent Run ID: a9315b2d-673e-4bbb-aed3-e49f111dadd5\n",
      "🏃 View run maroon_quill_nrpltj1n at: https://eastus2.api.azureml.ms/mlflow/v2.0/subscriptions/15d6b460-1d61-4813-914e-eb2d235bceb1/resourceGroups/Azure_ML/providers/Microsoft.MachineLearningServices/workspaces/Azure_ml/#/experiments/f4810b89-bb3f-4bd0-8577-92ea82b2f05f/runs/a9315b2d-673e-4bbb-aed3-e49f111dadd5\n",
      "🧪 View experiment at: https://eastus2.api.azureml.ms/mlflow/v2.0/subscriptions/15d6b460-1d61-4813-914e-eb2d235bceb1/resourceGroups/Azure_ML/providers/Microsoft.MachineLearningServices/workspaces/Azure_ml/#/experiments/f4810b89-bb3f-4bd0-8577-92ea82b2f05f\n"
     ]
    }
   ],
   "source": [
    "# Start MLflow run\n",
    "with mlflow.start_run() as run:\n",
    "    mlflow.log_params({\"dataset\": \"breast_cancer\", \"test_size\": 0.2, \"random_state\": 42})\n",
    "    \n",
    "    model_performance = {}\n",
    "    best_model_uri = None\n",
    "    best_model_name = None\n",
    "    best_accuracy = 0.0\n",
    "    accuracy_scores = []\n",
    "    f1_scores = []\n",
    "\n",
    "    # Train and evaluate each algorithm\n",
    "    for algo_name, model in algorithms.items():\n",
    "        print(f\"\\nTraining {algo_name}...\")\n",
    "        \n",
    "        try:\n",
    "            with mlflow.start_run(nested=True, run_name=algo_name) as nested_run:\n",
    "                model.fit(X_train, y_train)\n",
    "                predictions = model.predict(X_test)\n",
    "                accuracy = accuracy_score(y_test, predictions)\n",
    "                f1 = f1_score(y_test, predictions)\n",
    "                \n",
    "                mlflow.log_metric(\"accuracy\", accuracy)\n",
    "                mlflow.log_metric(\"f1_score\", f1)\n",
    "                mlflow.log_params(model.get_params())\n",
    "                mlflow.set_tag(\"algorithm\", algo_name)\n",
    "                \n",
    "                artifact_path = f\"{algo_name.lower().replace(' ', '_')}_model\"\n",
    "                registered_model_name = f\"cancer_{algo_name.lower().replace(' ', '_')}\"\n",
    "\n",
    "                # Define Input Example & Signature\n",
    "                input_example = X_train[:1]  # Example input\n",
    "                signature = infer_signature(X_train, model.predict(X_train))  # Model signature\n",
    "                \n",
    "                model_uri = mlflow.sklearn.log_model(\n",
    "                    sk_model=model,\n",
    "                    artifact_path=artifact_path,\n",
    "                    registered_model_name=registered_model_name,\n",
    "                    input_example=input_example,\n",
    "                    signature=signature\n",
    "                )\n",
    "                \n",
    "                model_performance[algo_name] = accuracy\n",
    "                print(f\"{algo_name} - Accuracy: {accuracy:.4f}\")\n",
    "                \n",
    "                # Store metrics\n",
    "                accuracy_scores.append(accuracy)\n",
    "                f1_scores.append(f1)\n",
    "                \n",
    "                if accuracy > best_accuracy:\n",
    "                    best_accuracy = accuracy\n",
    "                    best_model_uri = model_uri.model_uri\n",
    "                    best_model_name = algo_name\n",
    "                    \n",
    "        except Exception as e:\n",
    "            print(f\" Error in {algo_name} run: {e}\")\n",
    "    \n",
    "    # Create comparison graph\n",
    "    x_labels = list(algorithms.keys())\n",
    "    x = np.arange(len(x_labels))\n",
    "    \n",
    "    plt.figure(figsize=(8, 5))\n",
    "    plt.bar(x - 0.2, accuracy_scores, width=0.4, label=\"Accuracy\", color='blue', alpha=0.7)\n",
    "    plt.bar(x + 0.2, f1_scores, width=0.4, label=\"F1 Score\", color='green', alpha=0.7)\n",
    "    \n",
    "    plt.xticks(x, x_labels)\n",
    "    plt.ylabel(\"Score\")\n",
    "    plt.title(\"Model Performance Comparison\")\n",
    "    plt.legend()\n",
    "\n",
    "    # Log the figure in MLflow\n",
    "    mlflow.log_figure(plt.gcf(), \"model_comparison.png\")\n",
    "\n",
    "    # Show plot\n",
    "    plt.show()\n",
    "    \n",
    "    # Log best model details\n",
    "    if best_model_uri:\n",
    "        print(\"\\n*************************\")\n",
    "        print(f\"Best Model: {best_model_name} with Accuracy: {best_accuracy:.4f}\")\n",
    "        mlflow.log_metric(\"best_accuracy\", best_accuracy)\n",
    "        mlflow.log_param(\"best_algorithm\", best_model_name)\n",
    "        \n",
    "        # Register best model as 'best_cancer_model'\n",
    "        try:\n",
    "            mlflow.register_model(model_uri=best_model_uri, name=\"best_cancer_model\")\n",
    "            print(f\"\\nSuccessfully registered best model: {best_model_name} as 'best_cancer_model'\")\n",
    "        except Exception as e:\n",
    "            print(f\" Failed to register best model: {e}\")\n",
    "    else:\n",
    "        print(\"No valid models were trained.\")\n",
    "    \n",
    "    print(f\"\\nParent Run ID: {run.info.run_id}\")\n"
   ]
  },
  {
   "cell_type": "code",
   "execution_count": 10,
   "metadata": {},
   "outputs": [
    {
     "name": "stderr",
     "output_type": "stream",
     "text": [
      "/tmp/ipykernel_40189/2790211990.py:10: FutureWarning: azureml.core.model:\n",
      "To leverage new model deployment capabilities, AzureML recommends using CLI/SDK v2 to deploy models as online endpoint, \n",
      "please refer to respective documentations \n",
      "https://docs.microsoft.com/azure/machine-learning/how-to-deploy-managed-online-endpoints /\n",
      "https://docs.microsoft.com/azure/machine-learning/how-to-attach-kubernetes-anywhere \n",
      "For more information on migration, see https://aka.ms/acimoemigration \n",
      "To disable CLI/SDK v1 deprecation warning set AZUREML_LOG_DEPRECATION_WARNING_ENABLED to 'False'\n",
      "  service = Model.deploy(ws, \"mlflow-azure\", [model], inference_config, deployment_config)\n"
     ]
    },
    {
     "name": "stdout",
     "output_type": "stream",
     "text": [
      "Tips: You can try get_logs(): https://aka.ms/debugimage#dockerlog or local deployment: https://aka.ms/debugimage#debug-locally to debug if deployment takes longer than 10 minutes.\n",
      "Running\n",
      "2025-03-28 19:06:34+05:45 Creating Container Registry if not exists.\n",
      "2025-03-28 19:06:37+05:45 Use the existing image.\n",
      "2025-03-28 19:06:41+05:45 Submitting deployment to compute.\n",
      "2025-03-28 19:06:48+05:45 Checking the status of deployment mlflow-azure..\n",
      "2025-03-28 19:08:10+05:45 Checking the status of inference endpoint mlflow-azure.\n",
      "Succeeded\n",
      "ACI service creation operation finished, operation \"Succeeded\"\n"
     ]
    }
   ],
   "source": [
    "env = Environment(name=\"azure_mlflow\")\n",
    "env.python.conda_dependencies.add_pip_package(\"mlflow\")\n",
    "env.python.conda_dependencies.add_pip_package(\"scikit-learn\")\n",
    "\n",
    "inference_config = InferenceConfig(entry_script=\"score_azure_mlflow.py\", environment=env)\n",
    "\n",
    "model = Model(ws, \"best_cancer_model\")\n",
    "deployment_config = AciWebservice.deploy_configuration(cpu_cores=1, memory_gb=1)\n",
    "\n",
    "service = Model.deploy(ws, \"mlflow-azure\", [model], inference_config, deployment_config)\n",
    "service.wait_for_deployment(show_output=True)\n"
   ]
  },
  {
   "cell_type": "code",
   "execution_count": null,
   "metadata": {},
   "outputs": [],
   "source": []
  }
 ],
 "metadata": {
  "kernelspec": {
   "display_name": "venv",
   "language": "python",
   "name": "python3"
  },
  "language_info": {
   "codemirror_mode": {
    "name": "ipython",
    "version": 3
   },
   "file_extension": ".py",
   "mimetype": "text/x-python",
   "name": "python",
   "nbconvert_exporter": "python",
   "pygments_lexer": "ipython3",
   "version": "3.10.12"
  }
 },
 "nbformat": 4,
 "nbformat_minor": 2
}
