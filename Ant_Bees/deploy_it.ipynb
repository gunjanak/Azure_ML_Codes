{
  "cells": [
    {
      "cell_type": "code",
      "source": [
        "!pip install --upgrade azureml-sdk"
      ],
      "outputs": [
        {
          "output_type": "stream",
          "name": "stdout",
          "text": "Requirement already satisfied: azureml-sdk in /anaconda/envs/azureml_py38/lib/python3.10/site-packages (1.59.0)\nRequirement already satisfied: azureml-train-core~=1.59.0 in /anaconda/envs/azureml_py38/lib/python3.10/site-packages (from azureml-sdk) (1.59.0)\nRequirement already satisfied: azureml-core~=1.59.0 in /anaconda/envs/azureml_py38/lib/python3.10/site-packages (from azureml-sdk) (1.59.0.post1)\nRequirement already satisfied: azureml-train-automl-client~=1.59.0 in /anaconda/envs/azureml_py38/lib/python3.10/site-packages (from azureml-sdk) (1.59.0)\nRequirement already satisfied: azureml-dataset-runtime[fuse]~=1.59.0 in /anaconda/envs/azureml_py38/lib/python3.10/site-packages (from azureml-sdk) (1.59.0)\nRequirement already satisfied: azureml-pipeline~=1.59.0 in /anaconda/envs/azureml_py38/lib/python3.10/site-packages (from azureml-sdk) (1.59.0)\nRequirement already satisfied: backports.tempfile in /anaconda/envs/azureml_py38/lib/python3.10/site-packages (from azureml-core~=1.59.0->azureml-sdk) (1.0)\nRequirement already satisfied: jmespath<2.0.0 in /anaconda/envs/azureml_py38/lib/python3.10/site-packages (from azureml-core~=1.59.0->azureml-sdk) (0.10.0)\nRequirement already satisfied: requests[socks]<3.0.0,>=2.19.1 in /anaconda/envs/azureml_py38/lib/python3.10/site-packages (from azureml-core~=1.59.0->azureml-sdk) (2.32.3)\nRequirement already satisfied: msrest<=0.7.1,>=0.5.1 in /anaconda/envs/azureml_py38/lib/python3.10/site-packages (from azureml-core~=1.59.0->azureml-sdk) (0.7.1)\nRequirement already satisfied: msal-extensions<=2.0.0,>=0.3.0 in /anaconda/envs/azureml_py38/lib/python3.10/site-packages (from azureml-core~=1.59.0->azureml-sdk) (1.2.0)\nRequirement already satisfied: contextlib2<22.0.0 in /anaconda/envs/azureml_py38/lib/python3.10/site-packages (from azureml-core~=1.59.0->azureml-sdk) (21.6.0)\nRequirement already satisfied: azure-mgmt-authorization<5,>=0.40.0 in /anaconda/envs/azureml_py38/lib/python3.10/site-packages (from azureml-core~=1.59.0->azureml-sdk) (4.0.0)\nRequirement already satisfied: knack<0.13.0 in /anaconda/envs/azureml_py38/lib/python3.10/site-packages (from azureml-core~=1.59.0->azureml-sdk) (0.11.0)\nRequirement already satisfied: msal<2.0.0,>=1.15.0 in /anaconda/envs/azureml_py38/lib/python3.10/site-packages (from azureml-core~=1.59.0->azureml-sdk) (1.30.0)\nRequirement already satisfied: pytz in /anaconda/envs/azureml_py38/lib/python3.10/site-packages (from azureml-core~=1.59.0->azureml-sdk) (2022.5)\nRequirement already satisfied: pyopenssl<25.0.0 in /anaconda/envs/azureml_py38/lib/python3.10/site-packages (from azureml-core~=1.59.0->azureml-sdk) (23.0.0)\nRequirement already satisfied: paramiko<4.0.0,>=2.0.8 in /anaconda/envs/azureml_py38/lib/python3.10/site-packages (from azureml-core~=1.59.0->azureml-sdk) (3.4.0)\nRequirement already satisfied: azure-core<2.0.0 in /anaconda/envs/azureml_py38/lib/python3.10/site-packages (from azureml-core~=1.59.0->azureml-sdk) (1.30.2)\nRequirement already satisfied: azure-graphrbac<1.0.0,>=0.40.0 in /anaconda/envs/azureml_py38/lib/python3.10/site-packages (from azureml-core~=1.59.0->azureml-sdk) (0.60.0)\nRequirement already satisfied: packaging<=25.0,>=20.0 in /anaconda/envs/azureml_py38/lib/python3.10/site-packages (from azureml-core~=1.59.0->azureml-sdk) (24.1)\nRequirement already satisfied: SecretStorage<4.0.0 in /anaconda/envs/azureml_py38/lib/python3.10/site-packages (from azureml-core~=1.59.0->azureml-sdk) (3.3.3)\nRequirement already satisfied: msrestazure<=0.7,>=0.4.33 in /anaconda/envs/azureml_py38/lib/python3.10/site-packages (from azureml-core~=1.59.0->azureml-sdk) (0.6.4.post1)\nRequirement already satisfied: azure-mgmt-keyvault<11.0.0,>=0.40.0 in /anaconda/envs/azureml_py38/lib/python3.10/site-packages (from azureml-core~=1.59.0->azureml-sdk) (10.3.0)\nRequirement already satisfied: adal<=1.2.7,>=1.2.0 in /anaconda/envs/azureml_py38/lib/python3.10/site-packages (from azureml-core~=1.59.0->azureml-sdk) (1.2.7)\nRequirement already satisfied: azure-mgmt-network<=29.0.0 in /anaconda/envs/azureml_py38/lib/python3.10/site-packages (from azureml-core~=1.59.0->azureml-sdk) (25.1.0)\nRequirement already satisfied: azure-mgmt-resource<=24.0.0,>=15.0.0 in /anaconda/envs/azureml_py38/lib/python3.10/site-packages (from azureml-core~=1.59.0->azureml-sdk) (23.1.1)\nRequirement already satisfied: PyJWT<3.0.0 in /anaconda/envs/azureml_py38/lib/python3.10/site-packages (from azureml-core~=1.59.0->azureml-sdk) (2.4.0)\nRequirement already satisfied: humanfriendly<11.0,>=4.7 in /anaconda/envs/azureml_py38/lib/python3.10/site-packages (from azureml-core~=1.59.0->azureml-sdk) (10.0)\nRequirement already satisfied: argcomplete<4 in /anaconda/envs/azureml_py38/lib/python3.10/site-packages (from azureml-core~=1.59.0->azureml-sdk) (3.3.0)\nRequirement already satisfied: ndg-httpsclient<=0.5.1 in /anaconda/envs/azureml_py38/lib/python3.10/site-packages (from azureml-core~=1.59.0->azureml-sdk) (0.5.1)\nRequirement already satisfied: jsonpickle<5.0.0 in /anaconda/envs/azureml_py38/lib/python3.10/site-packages (from azureml-core~=1.59.0->azureml-sdk) (3.2.2)\nRequirement already satisfied: docker<8.0.0 in /anaconda/envs/azureml_py38/lib/python3.10/site-packages (from azureml-core~=1.59.0->azureml-sdk) (7.1.0)\nRequirement already satisfied: azure-common<2.0.0,>=1.1.12 in /anaconda/envs/azureml_py38/lib/python3.10/site-packages (from azureml-core~=1.59.0->azureml-sdk) (1.1.28)\nRequirement already satisfied: pkginfo in /anaconda/envs/azureml_py38/lib/python3.10/site-packages (from azureml-core~=1.59.0->azureml-sdk) (1.11.1)\nRequirement already satisfied: urllib3<3.0.0,>1.26.17 in /anaconda/envs/azureml_py38/lib/python3.10/site-packages (from azureml-core~=1.59.0->azureml-sdk) (1.26.19)\nRequirement already satisfied: azure-mgmt-containerregistry<11,>=8.2.0 in /anaconda/envs/azureml_py38/lib/python3.10/site-packages (from azureml-core~=1.59.0->azureml-sdk) (10.3.0)\nRequirement already satisfied: python-dateutil<3.0.0,>=2.7.3 in /anaconda/envs/azureml_py38/lib/python3.10/site-packages (from azureml-core~=1.59.0->azureml-sdk) (2.9.0.post0)\nRequirement already satisfied: pathspec<1.0.0 in /anaconda/envs/azureml_py38/lib/python3.10/site-packages (from azureml-core~=1.59.0->azureml-sdk) (0.12.1)\nRequirement already satisfied: azure-mgmt-storage<=22.0.0,>=16.0.0 in /anaconda/envs/azureml_py38/lib/python3.10/site-packages (from azureml-core~=1.59.0->azureml-sdk) (21.2.0)\nRequirement already satisfied: pyarrow>=0.17.0 in /anaconda/envs/azureml_py38/lib/python3.10/site-packages (from azureml-dataset-runtime[fuse]~=1.59.0->azureml-sdk) (14.0.2)\nRequirement already satisfied: azureml-dataprep<5.2.0a,>=5.1.0a in /anaconda/envs/azureml_py38/lib/python3.10/site-packages (from azureml-dataset-runtime[fuse]~=1.59.0->azureml-sdk) (5.1.6)\nRequirement already satisfied: numpy!=1.19.3,<1.24 in /anaconda/envs/azureml_py38/lib/python3.10/site-packages (from azureml-dataset-runtime[fuse]~=1.59.0->azureml-sdk) (1.23.5)\nRequirement already satisfied: fusepy<4.0.0,>=3.0.1 in /anaconda/envs/azureml_py38/lib/python3.10/site-packages (from azureml-dataset-runtime[fuse]~=1.59.0->azureml-sdk) (3.0.1)\nRequirement already satisfied: azureml-pipeline-steps~=1.59.0 in /anaconda/envs/azureml_py38/lib/python3.10/site-packages (from azureml-pipeline~=1.59.0->azureml-sdk) (1.59.0)\nRequirement already satisfied: azureml-pipeline-core~=1.59.0 in /anaconda/envs/azureml_py38/lib/python3.10/site-packages (from azureml-pipeline~=1.59.0->azureml-sdk) (1.59.0)\nRequirement already satisfied: azureml-automl-core~=1.59.0 in /anaconda/envs/azureml_py38/lib/python3.10/site-packages (from azureml-train-automl-client~=1.59.0->azureml-sdk) (1.59.0)\nRequirement already satisfied: azureml-telemetry~=1.59.0 in /anaconda/envs/azureml_py38/lib/python3.10/site-packages (from azureml-train-automl-client~=1.59.0->azureml-sdk) (1.59.0)\nRequirement already satisfied: azureml-train-restclients-hyperdrive~=1.59.0 in /anaconda/envs/azureml_py38/lib/python3.10/site-packages (from azureml-train-core~=1.59.0->azureml-sdk) (1.59.0)\nRequirement already satisfied: cryptography>=1.1.0 in /anaconda/envs/azureml_py38/lib/python3.10/site-packages (from adal<=1.2.7,>=1.2.0->azureml-core~=1.59.0->azureml-sdk) (38.0.4)\nRequirement already satisfied: six>=1.11.0 in /anaconda/envs/azureml_py38/lib/python3.10/site-packages (from azure-core<2.0.0->azureml-core~=1.59.0->azureml-sdk) (1.16.0)\nRequirement already satisfied: typing-extensions>=4.6.0 in /anaconda/envs/azureml_py38/lib/python3.10/site-packages (from azure-core<2.0.0->azureml-core~=1.59.0->azureml-sdk) (4.12.2)\nRequirement already satisfied: isodate<1.0.0,>=0.6.1 in /anaconda/envs/azureml_py38/lib/python3.10/site-packages (from azure-mgmt-authorization<5,>=0.40.0->azureml-core~=1.59.0->azureml-sdk) (0.6.1)\nRequirement already satisfied: azure-mgmt-core<2.0.0,>=1.3.2 in /anaconda/envs/azureml_py38/lib/python3.10/site-packages (from azure-mgmt-authorization<5,>=0.40.0->azureml-core~=1.59.0->azureml-sdk) (1.4.0)\nRequirement already satisfied: importlib-metadata<=8.2.0 in /anaconda/envs/azureml_py38/lib/python3.10/site-packages (from azureml-automl-core~=1.59.0->azureml-train-automl-client~=1.59.0->azureml-sdk) (8.2.0)\nRequirement already satisfied: importlib-resources<=6.4.0 in /anaconda/envs/azureml_py38/lib/python3.10/site-packages (from azureml-automl-core~=1.59.0->azureml-train-automl-client~=1.59.0->azureml-sdk) (6.4.0)\nRequirement already satisfied: cloudpickle<3.0.0,>=1.1.0 in /anaconda/envs/azureml_py38/lib/python3.10/site-packages (from azureml-dataprep<5.2.0a,>=5.1.0a->azureml-dataset-runtime[fuse]~=1.59.0->azureml-sdk) (2.2.1)\nRequirement already satisfied: azure-identity>=1.7.0 in /anaconda/envs/azureml_py38/lib/python3.10/site-packages (from azureml-dataprep<5.2.0a,>=5.1.0a->azureml-dataset-runtime[fuse]~=1.59.0->azureml-sdk) (1.17.1)\nRequirement already satisfied: pyyaml<7.0.0,>=5.1.0 in /anaconda/envs/azureml_py38/lib/python3.10/site-packages (from azureml-dataprep<5.2.0a,>=5.1.0a->azureml-dataset-runtime[fuse]~=1.59.0->azureml-sdk) (6.0.1)\nRequirement already satisfied: jsonschema in /anaconda/envs/azureml_py38/lib/python3.10/site-packages (from azureml-dataprep<5.2.0a,>=5.1.0a->azureml-dataset-runtime[fuse]~=1.59.0->azureml-sdk) (4.23.0)\nRequirement already satisfied: azureml-dataprep-native<42.0.0,>=41.0.0 in /anaconda/envs/azureml_py38/lib/python3.10/site-packages (from azureml-dataprep<5.2.0a,>=5.1.0a->azureml-dataset-runtime[fuse]~=1.59.0->azureml-sdk) (41.0.0)\nRequirement already satisfied: azureml-dataprep-rslex~=2.22.2dev0 in /anaconda/envs/azureml_py38/lib/python3.10/site-packages (from azureml-dataprep<5.2.0a,>=5.1.0a->azureml-dataset-runtime[fuse]~=1.59.0->azureml-sdk) (2.22.2)\nRequirement already satisfied: applicationinsights in /anaconda/envs/azureml_py38/lib/python3.10/site-packages (from azureml-telemetry~=1.59.0->azureml-train-automl-client~=1.59.0->azureml-sdk) (0.11.10)\nRequirement already satisfied: tabulate in /anaconda/envs/azureml_py38/lib/python3.10/site-packages (from knack<0.13.0->azureml-core~=1.59.0->azureml-sdk) (0.9.0)\nRequirement already satisfied: pygments in /anaconda/envs/azureml_py38/lib/python3.10/site-packages (from knack<0.13.0->azureml-core~=1.59.0->azureml-sdk) (2.18.0)\nRequirement already satisfied: portalocker<3,>=1.4 in /anaconda/envs/azureml_py38/lib/python3.10/site-packages (from msal-extensions<=2.0.0,>=0.3.0->azureml-core~=1.59.0->azureml-sdk) (2.10.1)\nRequirement already satisfied: certifi>=2017.4.17 in /anaconda/envs/azureml_py38/lib/python3.10/site-packages (from msrest<=0.7.1,>=0.5.1->azureml-core~=1.59.0->azureml-sdk) (2024.8.30)\nRequirement already satisfied: requests-oauthlib>=0.5.0 in /anaconda/envs/azureml_py38/lib/python3.10/site-packages (from msrest<=0.7.1,>=0.5.1->azureml-core~=1.59.0->azureml-sdk) (2.0.0)\nRequirement already satisfied: pyasn1>=0.1.1 in /anaconda/envs/azureml_py38/lib/python3.10/site-packages (from ndg-httpsclient<=0.5.1->azureml-core~=1.59.0->azureml-sdk) (0.6.0)\nRequirement already satisfied: bcrypt>=3.2 in /anaconda/envs/azureml_py38/lib/python3.10/site-packages (from paramiko<4.0.0,>=2.0.8->azureml-core~=1.59.0->azureml-sdk) (4.2.0)\nRequirement already satisfied: pynacl>=1.5 in /anaconda/envs/azureml_py38/lib/python3.10/site-packages (from paramiko<4.0.0,>=2.0.8->azureml-core~=1.59.0->azureml-sdk) (1.5.0)\nRequirement already satisfied: idna<4,>=2.5 in /anaconda/envs/azureml_py38/lib/python3.10/site-packages (from requests[socks]<3.0.0,>=2.19.1->azureml-core~=1.59.0->azureml-sdk) (3.7)\nRequirement already satisfied: charset-normalizer<4,>=2 in /anaconda/envs/azureml_py38/lib/python3.10/site-packages (from requests[socks]<3.0.0,>=2.19.1->azureml-core~=1.59.0->azureml-sdk) (3.3.2)\nRequirement already satisfied: PySocks!=1.5.7,>=1.5.6 in /anaconda/envs/azureml_py38/lib/python3.10/site-packages (from requests[socks]<3.0.0,>=2.19.1->azureml-core~=1.59.0->azureml-sdk) (1.7.1)\nRequirement already satisfied: jeepney>=0.6 in /anaconda/envs/azureml_py38/lib/python3.10/site-packages (from SecretStorage<4.0.0->azureml-core~=1.59.0->azureml-sdk) (0.8.0)\nRequirement already satisfied: backports.weakref in /anaconda/envs/azureml_py38/lib/python3.10/site-packages (from backports.tempfile->azureml-core~=1.59.0->azureml-sdk) (1.0.post1)\nRequirement already satisfied: cffi>=1.12 in /anaconda/envs/azureml_py38/lib/python3.10/site-packages (from cryptography>=1.1.0->adal<=1.2.7,>=1.2.0->azureml-core~=1.59.0->azureml-sdk) (1.16.0)\nRequirement already satisfied: zipp>=0.5 in /anaconda/envs/azureml_py38/lib/python3.10/site-packages (from importlib-metadata<=8.2.0->azureml-automl-core~=1.59.0->azureml-train-automl-client~=1.59.0->azureml-sdk) (3.19.2)\nRequirement already satisfied: oauthlib>=3.0.0 in /anaconda/envs/azureml_py38/lib/python3.10/site-packages (from requests-oauthlib>=0.5.0->msrest<=0.7.1,>=0.5.1->azureml-core~=1.59.0->azureml-sdk) (3.2.2)\nRequirement already satisfied: referencing>=0.28.4 in /anaconda/envs/azureml_py38/lib/python3.10/site-packages (from jsonschema->azureml-dataprep<5.2.0a,>=5.1.0a->azureml-dataset-runtime[fuse]~=1.59.0->azureml-sdk) (0.35.1)\nRequirement already satisfied: attrs>=22.2.0 in /anaconda/envs/azureml_py38/lib/python3.10/site-packages (from jsonschema->azureml-dataprep<5.2.0a,>=5.1.0a->azureml-dataset-runtime[fuse]~=1.59.0->azureml-sdk) (24.2.0)\nRequirement already satisfied: rpds-py>=0.7.1 in /anaconda/envs/azureml_py38/lib/python3.10/site-packages (from jsonschema->azureml-dataprep<5.2.0a,>=5.1.0a->azureml-dataset-runtime[fuse]~=1.59.0->azureml-sdk) (0.19.1)\nRequirement already satisfied: jsonschema-specifications>=2023.03.6 in /anaconda/envs/azureml_py38/lib/python3.10/site-packages (from jsonschema->azureml-dataprep<5.2.0a,>=5.1.0a->azureml-dataset-runtime[fuse]~=1.59.0->azureml-sdk) (2023.12.1)\nRequirement already satisfied: pycparser in /anaconda/envs/azureml_py38/lib/python3.10/site-packages (from cffi>=1.12->cryptography>=1.1.0->adal<=1.2.7,>=1.2.0->azureml-core~=1.59.0->azureml-sdk) (2.22)\n"
        }
      ],
      "execution_count": 1,
      "metadata": {}
    },
    {
      "cell_type": "code",
      "source": [
        "%%writefile score.py\n",
        "import json\n",
        "import torch\n",
        "import torch.nn as nn\n",
        "import torchvision.transforms as transforms\n",
        "from torchvision import models\n",
        "from PIL import Image\n",
        "import os\n",
        "import io\n",
        "\n",
        "# Define class labels\n",
        "CLASS_NAMES = [\"ant\", \"bee\"]\n",
        "\n",
        "# Load model at initialization\n",
        "def init():\n",
        "    global model\n",
        "    model_path = os.path.join(os.getenv(\"AZUREML_MODEL_DIR\", \"\"), \"vgg16_hymenoptera.pth\")\n",
        "    \n",
        "    print(f\"AZUREML_MODEL_DIR: {os.getenv('AZUREML_MODEL_DIR')}\")\n",
        "    print(f\"Model path: {model_path}\")\n",
        "    \n",
        "    if not os.path.exists(model_path):\n",
        "        print(\"Error: Model file not found!\")\n",
        "        return\n",
        "    \n",
        "    model = models.vgg16(pretrained=False)\n",
        "    model.classifier[6] = nn.Linear(4096, 2)  # Adjust for 2 classes\n",
        "    model.load_state_dict(torch.load(model_path, map_location=torch.device(\"cpu\")))\n",
        "    model.eval()\n",
        "    print(\"Model loaded successfully.\")\n",
        "\n",
        "# Inference function\n",
        "def run(raw_data):\n",
        "    try:\n",
        "        print(\"Received data for inference.\")\n",
        "        \n",
        "        # Parse JSON input\n",
        "        data = json.loads(raw_data)\n",
        "        image_bytes = data.get(\"image\")  # Expect base64 or binary image data\n",
        "        \n",
        "        if image_bytes is None:\n",
        "            return json.dumps({\"error\": \"No image found in request.\"})\n",
        "        \n",
        "        print(\"Image data received.\")\n",
        "        \n",
        "        # Convert image bytes to PIL Image\n",
        "        image = Image.open(io.BytesIO(bytearray(image_bytes))).convert(\"RGB\")\n",
        "\n",
        "        # Preprocess image\n",
        "        transform = transforms.Compose([\n",
        "            transforms.Resize((224, 224)),\n",
        "            transforms.ToTensor(),\n",
        "            transforms.Normalize(mean=[0.485, 0.456, 0.406], std=[0.229, 0.224, 0.225]),\n",
        "        ])\n",
        "        img_tensor = transform(image).unsqueeze(0)  # Add batch dimension\n",
        "\n",
        "        # Perform inference\n",
        "        with torch.no_grad():\n",
        "            outputs = model(img_tensor)\n",
        "            _, predicted = torch.max(outputs, 1)\n",
        "        \n",
        "        # Return human-readable class label\n",
        "        predicted_label = CLASS_NAMES[predicted.item()]\n",
        "        print(f\"Predicted label: {predicted_label}\")\n",
        "        return json.dumps({\"prediction\": predicted_label})\n",
        "\n",
        "    except Exception as e:\n",
        "        print(f\"Error during inference: {e}\")\n",
        "        return json.dumps({\"error\": str(e)})\n",
        "\n",
        "# Run test when executed as a script\n",
        "if __name__ == \"__main__\":\n",
        "    print(\"Initializing model...\")\n",
        "    init()\n",
        "    \n",
        "    # Test inference with a sample image\n",
        "    test_image_path = \"test_image.jpg\"  # Replace with an actual image file for testing\n",
        "    if os.path.exists(test_image_path):\n",
        "        with open(test_image_path, \"rb\") as f:\n",
        "            image_bytes = f.read()\n",
        "        \n",
        "        print(\"Running inference test...\")\n",
        "        response = run(json.dumps({\"image\": list(image_bytes)}))\n",
        "        print(\"Inference result:\", response)\n",
        "    else:\n",
        "        print(f\"Test image '{test_image_path}' not found. Please add a test image to verify inference.\")\n"
      ],
      "outputs": [
        {
          "output_type": "stream",
          "name": "stdout",
          "text": "Overwriting score.py\n"
        }
      ],
      "execution_count": 9,
      "metadata": {}
    },
    {
      "cell_type": "code",
      "source": [
        "!python score.py"
      ],
      "outputs": [
        {
          "output_type": "stream",
          "name": "stdout",
          "text": "Initializing model...\nAZUREML_MODEL_DIR: None\nModel path: vgg16_hymenoptera.pth\n/anaconda/envs/azureml_py38/lib/python3.10/site-packages/torchvision/models/_utils.py:208: UserWarning: The parameter 'pretrained' is deprecated since 0.13 and may be removed in the future, please use 'weights' instead.\n  warnings.warn(\n/anaconda/envs/azureml_py38/lib/python3.10/site-packages/torchvision/models/_utils.py:223: UserWarning: Arguments other than a weight enum or `None` for 'weights' are deprecated since 0.13 and may be removed in the future. The current behavior is equivalent to passing `weights=None`.\n  warnings.warn(msg)\n/mnt/batch/tasks/shared/LS_root/mounts/clusters/janak-tutorial/code/Users/janak/Ant_Bees/score.py:27: FutureWarning: You are using `torch.load` with `weights_only=False` (the current default value), which uses the default pickle module implicitly. It is possible to construct malicious pickle data which will execute arbitrary code during unpickling (See https://github.com/pytorch/pytorch/blob/main/SECURITY.md#untrusted-models for more details). In a future release, the default value for `weights_only` will be flipped to `True`. This limits the functions that could be executed during unpickling. Arbitrary objects will no longer be allowed to be loaded via this mode unless they are explicitly allowlisted by the user via `torch.serialization.add_safe_globals`. We recommend you start setting `weights_only=True` for any use case where you don't have full control of the loaded file. Please open an issue on GitHub for any issues related to this experimental feature.\n  model.load_state_dict(torch.load(model_path, map_location=torch.device(\"cpu\")))\nModel loaded successfully.\nTest image 'test_image.jpg' not found. Please add a test image to verify inference.\n"
        }
      ],
      "execution_count": 10,
      "metadata": {}
    },
    {
      "cell_type": "code",
      "source": [
        "%%writefile environment.yml\n",
        "name: pytorch-env\n",
        "dependencies:\n",
        "  - python=3.8\n",
        "  - joblib\n",
        "  - pip\n",
        "  - pip:\n",
        "      - torch==2.1.0\n",
        "      - torchvision==0.16.0\n",
        "      - pillow\n",
        "      - azureml-sdk\n",
        "      - azure-ai-ml  # Required for SDK v2\n",
        "      - azureml-defaults  # ✅ Required for deployment\n",
        "      - azureml-inference-server-http  # ✅ Required for scoring\n",
        "      - fastapi  # ✅ Required for API\n",
        "      - uvicorn  # ✅ Required for API server\n"
      ],
      "outputs": [
        {
          "output_type": "stream",
          "name": "stdout",
          "text": "Overwriting environment.yml\n"
        }
      ],
      "execution_count": 16,
      "metadata": {}
    },
    {
      "cell_type": "code",
      "source": [
        "# name: mnist-env\n",
        "# dependencies:\n",
        "#   - python=3.10\n",
        "#   - scikit-learn\n",
        "#   - joblib\n",
        "#   - pip\n",
        "#   - pip:\n",
        "#       - azure-ai-ml  # Required for SDK v2\n",
        "#       - azureml-defaults  # ✅ Required for deployment\n",
        "#       - azureml-inference-server-http  # ✅ Required for scoring\n",
        "#       - fastapi  # ✅ Required for API\n",
        "#       - uvicorn  # ✅ Required for API server"
      ],
      "outputs": [],
      "execution_count": null,
      "metadata": {}
    },
    {
      "cell_type": "code",
      "source": [
        "%%writefile deploy.py\n",
        "from azureml.core import Workspace, Model, Environment\n",
        "from azureml.core.webservice import AciWebservice\n",
        "from azureml.core.model import InferenceConfig\n",
        "\n",
        "# Load the Azure ML workspace\n",
        "ws = Workspace.from_config()\n",
        "\n",
        "# Get registered model\n",
        "model = Model(ws, name=\"vgg16_hymenoptera\")\n",
        "\n",
        "# Define environment\n",
        "env = Environment.from_conda_specification(name=\"pytorch-env\", file_path=\"environment.yml\")\n",
        "\n",
        "# Define inference config\n",
        "inference_config = InferenceConfig(entry_script=\"score.py\", environment=env)\n",
        "\n",
        "# Define deployment config for Azure Container Instance (ACI)\n",
        "deployment_config = AciWebservice.deploy_configuration(cpu_cores=1, memory_gb=2)\n",
        "\n",
        "# Deploy model as a web service\n",
        "service = Model.deploy(\n",
        "    workspace=ws,\n",
        "    name=\"vgg16-serviceee\",\n",
        "    models=[model],\n",
        "    inference_config=inference_config,\n",
        "    deployment_config=deployment_config\n",
        ")\n",
        "\n",
        "service.wait_for_deployment(show_output=True)\n",
        "\n",
        "# Print deployment info\n",
        "print(f\"Service State: {service.state}\")\n",
        "print(f\"Scoring URI: {service.scoring_uri}\")\n"
      ],
      "outputs": [
        {
          "output_type": "stream",
          "name": "stdout",
          "text": "Overwriting deploy.py\n"
        }
      ],
      "execution_count": 19,
      "metadata": {}
    },
    {
      "cell_type": "code",
      "source": [
        "!python deploy.py"
      ],
      "outputs": [
        {
          "output_type": "stream",
          "name": "stdout",
          "text": "/mnt/batch/tasks/shared/LS_root/mounts/clusters/janak-tutorial/code/Users/janak/Ant_Bees/deploy.py:21: FutureWarning: azureml.core.model:\nTo leverage new model deployment capabilities, AzureML recommends using CLI/SDK v2 to deploy models as online endpoint, \nplease refer to respective documentations \nhttps://docs.microsoft.com/azure/machine-learning/how-to-deploy-managed-online-endpoints /\nhttps://docs.microsoft.com/azure/machine-learning/how-to-attach-kubernetes-anywhere \nFor more information on migration, see https://aka.ms/acimoemigration \nTo disable CLI/SDK v1 deprecation warning set AZUREML_LOG_DEPRECATION_WARNING_ENABLED to 'False'\n  service = Model.deploy(\nTips: You can try get_logs(): https://aka.ms/debugimage#dockerlog or local deployment: https://aka.ms/debugimage#debug-locally to debug if deployment takes longer than 10 minutes.\nRunning\n2025-03-23 12:55:53+00:00 Creating Container Registry if not exists.\n2025-03-23 12:55:56+00:00 Building image..\n2025-03-23 13:08:55+00:00 Generating deployment configuration.\n2025-03-23 13:08:57+00:00 Submitting deployment to compute..\n2025-03-23 13:09:01+00:00 Checking the status of deployment vgg16-serviceee..\n2025-03-23 13:11:44+00:00 Checking the status of inference endpoint vgg16-serviceee.\nSucceeded\nACI service creation operation finished, operation \"Succeeded\"\nService State: Healthy\nScoring URI: http://41576a85-d534-45ee-b1ff-be2c2946630c.eastus2.azurecontainer.io/score\n"
        }
      ],
      "execution_count": 20,
      "metadata": {}
    }
  ],
  "metadata": {
    "kernelspec": {
      "name": "python3",
      "language": "python",
      "display_name": "Python 3 (ipykernel)"
    },
    "language_info": {
      "name": "python",
      "version": "3.10.11",
      "mimetype": "text/x-python",
      "codemirror_mode": {
        "name": "ipython",
        "version": 3
      },
      "pygments_lexer": "ipython3",
      "nbconvert_exporter": "python",
      "file_extension": ".py"
    },
    "microsoft": {
      "ms_spell_check": {
        "ms_spell_check_language": "en"
      }
    },
    "kernel_info": {
      "name": "python3"
    },
    "nteract": {
      "version": "nteract-front-end@1.0.0"
    }
  },
  "nbformat": 4,
  "nbformat_minor": 2
}