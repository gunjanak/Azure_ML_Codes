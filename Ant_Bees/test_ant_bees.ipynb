{
 "cells": [
  {
   "cell_type": "code",
   "execution_count": 2,
   "metadata": {},
   "outputs": [
    {
     "name": "stdout",
     "output_type": "stream",
     "text": [
      "{\"prediction\": \"ant\"}\n"
     ]
    }
   ],
   "source": [
    "import requests\n",
    "import json\n",
    "\n",
    "url = \"http://41576a85-d534-45ee-b1ff-be2c2946630c.eastus2.azurecontainer.io/score\"  # Replace with your endpoint URL\n",
    "headers = {\"Content-Type\": \"application/json\"}\n",
    "\n",
    "with open(\"2.png\", \"rb\") as f:\n",
    "    image_bytes = f.read()\n",
    "\n",
    "payload = json.dumps({\"image\": list(image_bytes)})\n",
    "response = requests.post(url, data=payload, headers=headers)\n",
    "\n",
    "print(response.json())\n"
   ]
  },
  {
   "cell_type": "code",
   "execution_count": null,
   "metadata": {},
   "outputs": [],
   "source": []
  }
 ],
 "metadata": {
  "kernelspec": {
   "display_name": "venv",
   "language": "python",
   "name": "python3"
  },
  "language_info": {
   "codemirror_mode": {
    "name": "ipython",
    "version": 3
   },
   "file_extension": ".py",
   "mimetype": "text/x-python",
   "name": "python",
   "nbconvert_exporter": "python",
   "pygments_lexer": "ipython3",
   "version": "3.10.12"
  }
 },
 "nbformat": 4,
 "nbformat_minor": 2
}
