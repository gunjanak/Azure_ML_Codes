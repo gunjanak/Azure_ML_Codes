{
 "cells": [
  {
   "cell_type": "code",
   "execution_count": null,
   "metadata": {},
   "outputs": [
    {
     "data": {
      "image/png": "[encoded data removed]",
      "text/plain": [
       "<Figure size 640x480 with 1 Axes>"
      ]
     },
     "metadata": {},
     "output_type": "display_data"
    },
    {
     "name": "stdout",
     "output_type": "stream",
     "text": [
      "Response: {'predictions': [2]}\n"
     ]
    }
   ],
   "source": [
    "#Testing the deployed mnist model\n",
    "import requests\n",
    "import json\n",
    "import numpy as np\n",
    "import matplotlib.pyplot as plt\n",
    "from sklearn.datasets import fetch_openml\n",
    "\n",
    "# Load MNIST dataset\n",
    "mnist = fetch_openml(\"mnist_784\", version=1, as_frame=False)\n",
    "\n",
    "# Select the first image and label\n",
    "image = mnist.data[-5].reshape(28, 28)  # Reshape to 28x28\n",
    "label = mnist.target[-5]  # Get the label\n",
    "\n",
    "# Display the image\n",
    "plt.imshow(image, cmap=\"gray\")\n",
    "plt.title(f\"MNIST Digit: {label}\")\n",
    "plt.axis(\"off\")\n",
    "plt.show()\n",
    "\n",
    "# Flatten the image and normalize pixel values (0-1)\n",
    "image = image.reshape(1, 784) / 255.0\n",
    "\n",
    "# Define the input data\n",
    "input_data = {\"data\": image.tolist()}  \n",
    "\n",
    "# Scoring URI (Replace with your actual URI)\n",
    "scoring_uri = \"http://51844e2b-612f-43bf-9c4b-156380569c0d.eastus2.azurecontainer.io/score\"\n",
    "\n",
    "# Set headers\n",
    "headers = {\"Content-Type\": \"application/json\"}\n",
    "\n",
    "# Send POST request\n",
    "response = requests.post(scoring_uri, data=json.dumps(input_data), headers=headers)\n",
    "\n",
    "# Print response\n",
    "print(\"Response:\", response.json())\n"
   ]
  }
 ],
 "metadata": {
  "kernelspec": {
   "display_name": "venv",
   "language": "python",
   "name": "python3"
  },
  "language_info": {
   "codemirror_mode": {
    "name": "ipython",
    "version": 3
   },
   "file_extension": ".py",
   "mimetype": "text/x-python",
   "name": "python",
   "nbconvert_exporter": "python",
   "pygments_lexer": "ipython3",
   "version": "3.10.12"
  }
 },
 "nbformat": 4,
 "nbformat_minor": 2
}
